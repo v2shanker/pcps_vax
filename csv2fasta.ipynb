{
  "nbformat": 4,
  "nbformat_minor": 0,
  "metadata": {
    "kernelspec": {
      "display_name": "Python 3",
      "language": "python",
      "name": "python3"
    },
    "language_info": {
      "codemirror_mode": {
        "name": "ipython",
        "version": 3
      },
      "file_extension": ".py",
      "mimetype": "text/x-python",
      "name": "python",
      "nbconvert_exporter": "python",
      "pygments_lexer": "ipython3",
      "version": "3.7.9"
    },
    "colab": {
      "name": "csv2fasta.ipynb",
      "provenance": [],
      "include_colab_link": true
    }
  },
  "cells": [
    {
      "cell_type": "markdown",
      "metadata": {
        "id": "view-in-github",
        "colab_type": "text"
      },
      "source": [
        "<a href=\"https://colab.research.google.com/github/v2shanker/pcps_vax/blob/master/csv2fasta.ipynb\" target=\"_parent\"><img src=\"https://colab.research.google.com/assets/colab-badge.svg\" alt=\"Open In Colab\"/></a>"
      ]
    },
    {
      "cell_type": "code",
      "metadata": {
        "id": "DI9bIEFZmvjt"
      },
      "source": [
        "import numpy as np\n",
        "import pandas as pd\n",
        "import tkinter\n",
        "import os"
      ],
      "execution_count": null,
      "outputs": []
    },
    {
      "cell_type": "code",
      "metadata": {
        "id": "Szp2aqXlmvjy"
      },
      "source": [
        "data_path = ''"
      ],
      "execution_count": null,
      "outputs": []
    },
    {
      "cell_type": "code",
      "metadata": {
        "id": "tamnNn9Omvj1"
      },
      "source": [
        "csv_name = '6_2_A_L.csv'"
      ],
      "execution_count": null,
      "outputs": []
    },
    {
      "cell_type": "code",
      "metadata": {
        "id": "FXTsrhQlmvj4"
      },
      "source": [
        "df = pd.read_csv(csv_name, delimiter = ',', header = None)\n",
        "\n",
        "df = df.dropna(axis=1)"
      ],
      "execution_count": null,
      "outputs": []
    },
    {
      "cell_type": "code",
      "metadata": {
        "id": "pUH2ddWtmvj7",
        "outputId": "3e84c0e9-66d6-4a8a-d503-03bad2203008"
      },
      "source": [
        "df"
      ],
      "execution_count": null,
      "outputs": [
        {
          "output_type": "execute_result",
          "data": {
            "text/html": [
              "<div>\n",
              "<style scoped>\n",
              "    .dataframe tbody tr th:only-of-type {\n",
              "        vertical-align: middle;\n",
              "    }\n",
              "\n",
              "    .dataframe tbody tr th {\n",
              "        vertical-align: top;\n",
              "    }\n",
              "\n",
              "    .dataframe thead th {\n",
              "        text-align: right;\n",
              "    }\n",
              "</style>\n",
              "<table border=\"1\" class=\"dataframe\">\n",
              "  <thead>\n",
              "    <tr style=\"text-align: right;\">\n",
              "      <th></th>\n",
              "      <th>0</th>\n",
              "      <th>1</th>\n",
              "      <th>3</th>\n",
              "      <th>4</th>\n",
              "      <th>7</th>\n",
              "      <th>8</th>\n",
              "      <th>10</th>\n",
              "      <th>11</th>\n",
              "      <th>14</th>\n",
              "      <th>15</th>\n",
              "      <th>17</th>\n",
              "      <th>18</th>\n",
              "      <th>21</th>\n",
              "      <th>22</th>\n",
              "      <th>24</th>\n",
              "      <th>25</th>\n",
              "      <th>27</th>\n",
              "      <th>28</th>\n",
              "      <th>30</th>\n",
              "      <th>31</th>\n",
              "    </tr>\n",
              "  </thead>\n",
              "  <tbody>\n",
              "    <tr>\n",
              "      <th>0</th>\n",
              "      <td>Ext_LEEK_6to2_1</td>\n",
              "      <td>YVYVVTL</td>\n",
              "      <td>Ext_LEEK_6to2_B1</td>\n",
              "      <td>YVYVVTKGEK</td>\n",
              "      <td>Ext_LEEK_6to2_C1</td>\n",
              "      <td>YVYVVTEKKLE</td>\n",
              "      <td>Ext_LEEK_6to2_D1</td>\n",
              "      <td>YVYVVTKKGNY</td>\n",
              "      <td>Ext_LEEK_6to2_E1</td>\n",
              "      <td>YVYVVTEKKGKG</td>\n",
              "      <td>Ext_LEEK_6to2_F1</td>\n",
              "      <td>YVYVVTKGNKGN</td>\n",
              "      <td>Ext_LEEK_6to2_G1</td>\n",
              "      <td>YVYVVTLEEKLE</td>\n",
              "      <td>Ext_LEEK_6to2_H1</td>\n",
              "      <td>YVYVVTEKKGLEE</td>\n",
              "      <td>Ext_LEEK_6to2_I1</td>\n",
              "      <td>YVYVVTGNYVVTD</td>\n",
              "      <td>Ext_LEEK_6to2_J1</td>\n",
              "      <td>YVYVVTKKGNGNY</td>\n",
              "    </tr>\n",
              "    <tr>\n",
              "      <th>1</th>\n",
              "      <td>Ext_LEEK_6to2_2</td>\n",
              "      <td>YVYEMEL</td>\n",
              "      <td>Ext_LEEK_6to2_B2</td>\n",
              "      <td>YVYEMEKGEK</td>\n",
              "      <td>Ext_LEEK_6to2_C2</td>\n",
              "      <td>YVYEMEEKKLE</td>\n",
              "      <td>Ext_LEEK_6to2_D2</td>\n",
              "      <td>YVYEMEKKGNY</td>\n",
              "      <td>Ext_LEEK_6to2_E2</td>\n",
              "      <td>YVYEMEEKKGKG</td>\n",
              "      <td>Ext_LEEK_6to2_F2</td>\n",
              "      <td>YVYEMEKGNKGN</td>\n",
              "      <td>Ext_LEEK_6to2_G2</td>\n",
              "      <td>YVYEMELEEKLE</td>\n",
              "      <td>Ext_LEEK_6to2_H2</td>\n",
              "      <td>YVYEMEEKKGLEE</td>\n",
              "      <td>Ext_LEEK_6to2_I2</td>\n",
              "      <td>YVYEMEGNYVVTD</td>\n",
              "      <td>Ext_LEEK_6to2_J2</td>\n",
              "      <td>YVYEMEKKGNGNY</td>\n",
              "    </tr>\n",
              "    <tr>\n",
              "      <th>2</th>\n",
              "      <td>Ext_LEEK_6to2_3</td>\n",
              "      <td>YVVYVVL</td>\n",
              "      <td>Ext_LEEK_6to2_B3</td>\n",
              "      <td>YVVYVVKGEK</td>\n",
              "      <td>Ext_LEEK_6to2_C3</td>\n",
              "      <td>YVVYVVEKKLE</td>\n",
              "      <td>Ext_LEEK_6to2_D3</td>\n",
              "      <td>YVVYVVKKGNY</td>\n",
              "      <td>Ext_LEEK_6to2_E3</td>\n",
              "      <td>YVVYVVEKKGKG</td>\n",
              "      <td>Ext_LEEK_6to2_F3</td>\n",
              "      <td>YVVYVVKGNKGN</td>\n",
              "      <td>Ext_LEEK_6to2_G3</td>\n",
              "      <td>YVVYVVLEEKLE</td>\n",
              "      <td>Ext_LEEK_6to2_H3</td>\n",
              "      <td>YVVYVVEKKGLEE</td>\n",
              "      <td>Ext_LEEK_6to2_I3</td>\n",
              "      <td>YVVYVVGNYVVTD</td>\n",
              "      <td>Ext_LEEK_6to2_J3</td>\n",
              "      <td>YVVYVVKKGNGNY</td>\n",
              "    </tr>\n",
              "    <tr>\n",
              "      <th>3</th>\n",
              "      <td>Ext_LEEK_6to2_4</td>\n",
              "      <td>YVVYEML</td>\n",
              "      <td>Ext_LEEK_6to2_B4</td>\n",
              "      <td>YVVYEMKGEK</td>\n",
              "      <td>Ext_LEEK_6to2_C4</td>\n",
              "      <td>YVVYEMEKKLE</td>\n",
              "      <td>Ext_LEEK_6to2_D4</td>\n",
              "      <td>YVVYEMKKGNY</td>\n",
              "      <td>Ext_LEEK_6to2_E4</td>\n",
              "      <td>YVVYEMEKKGKG</td>\n",
              "      <td>Ext_LEEK_6to2_F4</td>\n",
              "      <td>YVVYEMKGNKGN</td>\n",
              "      <td>Ext_LEEK_6to2_G4</td>\n",
              "      <td>YVVYEMLEEKLE</td>\n",
              "      <td>Ext_LEEK_6to2_H4</td>\n",
              "      <td>YVVYEMEKKGLEE</td>\n",
              "      <td>Ext_LEEK_6to2_I4</td>\n",
              "      <td>YVVYEMGNYVVTD</td>\n",
              "      <td>Ext_LEEK_6to2_J4</td>\n",
              "      <td>YVVYEMKKGNGNY</td>\n",
              "    </tr>\n",
              "    <tr>\n",
              "      <th>4</th>\n",
              "      <td>Ext_LEEK_6to2_5</td>\n",
              "      <td>YVVVVTL</td>\n",
              "      <td>Ext_LEEK_6to2_B5</td>\n",
              "      <td>YVVVVTKGEK</td>\n",
              "      <td>Ext_LEEK_6to2_C5</td>\n",
              "      <td>YVVVVTEKKLE</td>\n",
              "      <td>Ext_LEEK_6to2_D5</td>\n",
              "      <td>YVVVVTKKGNY</td>\n",
              "      <td>Ext_LEEK_6to2_E5</td>\n",
              "      <td>YVVVVTEKKGKG</td>\n",
              "      <td>Ext_LEEK_6to2_F5</td>\n",
              "      <td>YVVVVTKGNKGN</td>\n",
              "      <td>Ext_LEEK_6to2_G5</td>\n",
              "      <td>YVVVVTLEEKLE</td>\n",
              "      <td>Ext_LEEK_6to2_H5</td>\n",
              "      <td>YVVVVTEKKGLEE</td>\n",
              "      <td>Ext_LEEK_6to2_I5</td>\n",
              "      <td>YVVVVTGNYVVTD</td>\n",
              "      <td>Ext_LEEK_6to2_J5</td>\n",
              "      <td>YVVVVTKKGNGNY</td>\n",
              "    </tr>\n",
              "    <tr>\n",
              "      <th>...</th>\n",
              "      <td>...</td>\n",
              "      <td>...</td>\n",
              "      <td>...</td>\n",
              "      <td>...</td>\n",
              "      <td>...</td>\n",
              "      <td>...</td>\n",
              "      <td>...</td>\n",
              "      <td>...</td>\n",
              "      <td>...</td>\n",
              "      <td>...</td>\n",
              "      <td>...</td>\n",
              "      <td>...</td>\n",
              "      <td>...</td>\n",
              "      <td>...</td>\n",
              "      <td>...</td>\n",
              "      <td>...</td>\n",
              "      <td>...</td>\n",
              "      <td>...</td>\n",
              "      <td>...</td>\n",
              "      <td>...</td>\n",
              "    </tr>\n",
              "    <tr>\n",
              "      <th>1031611</th>\n",
              "      <td>Ext_LEEK_6to2_1031612</td>\n",
              "      <td>VRKGGNY</td>\n",
              "      <td>Ext_LEEK_6to2_B1031612</td>\n",
              "      <td>VREEKEEK</td>\n",
              "      <td>Ext_LEEK_6to2_C1031612</td>\n",
              "      <td>VRGNYKGN</td>\n",
              "      <td>Ext_LEEK_6to2_D1031612</td>\n",
              "      <td>VRKKGLEE</td>\n",
              "      <td>Ext_LEEK_6to2_E1031612</td>\n",
              "      <td>VREEKKGKG</td>\n",
              "      <td>Ext_LEEK_6to2_F1031612</td>\n",
              "      <td>VRGNLEEKK</td>\n",
              "      <td>Ext_LEEK_6to2_G1031612</td>\n",
              "      <td>VRKGNYKKG</td>\n",
              "      <td>Ext_LEEK_6to2_H1031612</td>\n",
              "      <td>VRLEEKEEK</td>\n",
              "      <td>Ext_LEEK_6to2_I1031612</td>\n",
              "      <td>VREEKKKGNY</td>\n",
              "      <td>Ext_LEEK_6to2_J1031612</td>\n",
              "      <td>VRGNKGNYVV</td>\n",
              "    </tr>\n",
              "    <tr>\n",
              "      <th>1031612</th>\n",
              "      <td>Ext_LEEK_6to2_1031613</td>\n",
              "      <td>VTKGGNY</td>\n",
              "      <td>Ext_LEEK_6to2_B1031613</td>\n",
              "      <td>VTEEKEEK</td>\n",
              "      <td>Ext_LEEK_6to2_C1031613</td>\n",
              "      <td>VTGNYKGN</td>\n",
              "      <td>Ext_LEEK_6to2_D1031613</td>\n",
              "      <td>VTKKGLEE</td>\n",
              "      <td>Ext_LEEK_6to2_E1031613</td>\n",
              "      <td>VTEEKKGKG</td>\n",
              "      <td>Ext_LEEK_6to2_F1031613</td>\n",
              "      <td>VTGNLEEKK</td>\n",
              "      <td>Ext_LEEK_6to2_G1031613</td>\n",
              "      <td>VTKGNYKKG</td>\n",
              "      <td>Ext_LEEK_6to2_H1031613</td>\n",
              "      <td>VTLEEKEEK</td>\n",
              "      <td>Ext_LEEK_6to2_I1031613</td>\n",
              "      <td>VTEEKKKGNY</td>\n",
              "      <td>Ext_LEEK_6to2_J1031613</td>\n",
              "      <td>VTGNKGNYVV</td>\n",
              "    </tr>\n",
              "    <tr>\n",
              "      <th>1031613</th>\n",
              "      <td>Ext_LEEK_6to2_1031614</td>\n",
              "      <td>VVKGGNY</td>\n",
              "      <td>Ext_LEEK_6to2_B1031614</td>\n",
              "      <td>VVEEKEEK</td>\n",
              "      <td>Ext_LEEK_6to2_C1031614</td>\n",
              "      <td>VVGNYKGN</td>\n",
              "      <td>Ext_LEEK_6to2_D1031614</td>\n",
              "      <td>VVKKGLEE</td>\n",
              "      <td>Ext_LEEK_6to2_E1031614</td>\n",
              "      <td>VVEEKKGKG</td>\n",
              "      <td>Ext_LEEK_6to2_F1031614</td>\n",
              "      <td>VVGNLEEKK</td>\n",
              "      <td>Ext_LEEK_6to2_G1031614</td>\n",
              "      <td>VVKGNYKKG</td>\n",
              "      <td>Ext_LEEK_6to2_H1031614</td>\n",
              "      <td>VVLEEKEEK</td>\n",
              "      <td>Ext_LEEK_6to2_I1031614</td>\n",
              "      <td>VVEEKKKGNY</td>\n",
              "      <td>Ext_LEEK_6to2_J1031614</td>\n",
              "      <td>VVGNKGNYVV</td>\n",
              "    </tr>\n",
              "    <tr>\n",
              "      <th>1031614</th>\n",
              "      <td>Ext_LEEK_6to2_1031615</td>\n",
              "      <td>YEKGGNY</td>\n",
              "      <td>Ext_LEEK_6to2_B1031615</td>\n",
              "      <td>YEEEKEEK</td>\n",
              "      <td>Ext_LEEK_6to2_C1031615</td>\n",
              "      <td>YEGNYKGN</td>\n",
              "      <td>Ext_LEEK_6to2_D1031615</td>\n",
              "      <td>YEKKGLEE</td>\n",
              "      <td>Ext_LEEK_6to2_E1031615</td>\n",
              "      <td>YEEEKKGKG</td>\n",
              "      <td>Ext_LEEK_6to2_F1031615</td>\n",
              "      <td>YEGNLEEKK</td>\n",
              "      <td>Ext_LEEK_6to2_G1031615</td>\n",
              "      <td>YEKGNYKKG</td>\n",
              "      <td>Ext_LEEK_6to2_H1031615</td>\n",
              "      <td>YELEEKEEK</td>\n",
              "      <td>Ext_LEEK_6to2_I1031615</td>\n",
              "      <td>YEEEKKKGNY</td>\n",
              "      <td>Ext_LEEK_6to2_J1031615</td>\n",
              "      <td>YEGNKGNYVV</td>\n",
              "    </tr>\n",
              "    <tr>\n",
              "      <th>1031615</th>\n",
              "      <td>Ext_LEEK_6to2_1031616</td>\n",
              "      <td>YVKGGNY</td>\n",
              "      <td>Ext_LEEK_6to2_B1031616</td>\n",
              "      <td>YVEEKEEK</td>\n",
              "      <td>Ext_LEEK_6to2_C1031616</td>\n",
              "      <td>YVGNYKGN</td>\n",
              "      <td>Ext_LEEK_6to2_D1031616</td>\n",
              "      <td>YVKKGLEE</td>\n",
              "      <td>Ext_LEEK_6to2_E1031616</td>\n",
              "      <td>YVEEKKGKG</td>\n",
              "      <td>Ext_LEEK_6to2_F1031616</td>\n",
              "      <td>YVGNLEEKK</td>\n",
              "      <td>Ext_LEEK_6to2_G1031616</td>\n",
              "      <td>YVKGNYKKG</td>\n",
              "      <td>Ext_LEEK_6to2_H1031616</td>\n",
              "      <td>YVLEEKEEK</td>\n",
              "      <td>Ext_LEEK_6to2_I1031616</td>\n",
              "      <td>YVEEKKKGNY</td>\n",
              "      <td>Ext_LEEK_6to2_J1031616</td>\n",
              "      <td>YVGNKGNYVV</td>\n",
              "    </tr>\n",
              "  </tbody>\n",
              "</table>\n",
              "<p>1031616 rows × 20 columns</p>\n",
              "</div>"
            ],
            "text/plain": [
              "                            0        1                       3           4   \\\n",
              "0              Ext_LEEK_6to2_1  YVYVVTL        Ext_LEEK_6to2_B1  YVYVVTKGEK   \n",
              "1              Ext_LEEK_6to2_2  YVYEMEL        Ext_LEEK_6to2_B2  YVYEMEKGEK   \n",
              "2              Ext_LEEK_6to2_3  YVVYVVL        Ext_LEEK_6to2_B3  YVVYVVKGEK   \n",
              "3              Ext_LEEK_6to2_4  YVVYEML        Ext_LEEK_6to2_B4  YVVYEMKGEK   \n",
              "4              Ext_LEEK_6to2_5  YVVVVTL        Ext_LEEK_6to2_B5  YVVVVTKGEK   \n",
              "...                        ...      ...                     ...         ...   \n",
              "1031611  Ext_LEEK_6to2_1031612  VRKGGNY  Ext_LEEK_6to2_B1031612    VREEKEEK   \n",
              "1031612  Ext_LEEK_6to2_1031613  VTKGGNY  Ext_LEEK_6to2_B1031613    VTEEKEEK   \n",
              "1031613  Ext_LEEK_6to2_1031614  VVKGGNY  Ext_LEEK_6to2_B1031614    VVEEKEEK   \n",
              "1031614  Ext_LEEK_6to2_1031615  YEKGGNY  Ext_LEEK_6to2_B1031615    YEEEKEEK   \n",
              "1031615  Ext_LEEK_6to2_1031616  YVKGGNY  Ext_LEEK_6to2_B1031616    YVEEKEEK   \n",
              "\n",
              "                             7            8                       10  \\\n",
              "0              Ext_LEEK_6to2_C1  YVYVVTEKKLE        Ext_LEEK_6to2_D1   \n",
              "1              Ext_LEEK_6to2_C2  YVYEMEEKKLE        Ext_LEEK_6to2_D2   \n",
              "2              Ext_LEEK_6to2_C3  YVVYVVEKKLE        Ext_LEEK_6to2_D3   \n",
              "3              Ext_LEEK_6to2_C4  YVVYEMEKKLE        Ext_LEEK_6to2_D4   \n",
              "4              Ext_LEEK_6to2_C5  YVVVVTEKKLE        Ext_LEEK_6to2_D5   \n",
              "...                         ...          ...                     ...   \n",
              "1031611  Ext_LEEK_6to2_C1031612     VRGNYKGN  Ext_LEEK_6to2_D1031612   \n",
              "1031612  Ext_LEEK_6to2_C1031613     VTGNYKGN  Ext_LEEK_6to2_D1031613   \n",
              "1031613  Ext_LEEK_6to2_C1031614     VVGNYKGN  Ext_LEEK_6to2_D1031614   \n",
              "1031614  Ext_LEEK_6to2_C1031615     YEGNYKGN  Ext_LEEK_6to2_D1031615   \n",
              "1031615  Ext_LEEK_6to2_C1031616     YVGNYKGN  Ext_LEEK_6to2_D1031616   \n",
              "\n",
              "                  11                      14            15  \\\n",
              "0        YVYVVTKKGNY        Ext_LEEK_6to2_E1  YVYVVTEKKGKG   \n",
              "1        YVYEMEKKGNY        Ext_LEEK_6to2_E2  YVYEMEEKKGKG   \n",
              "2        YVVYVVKKGNY        Ext_LEEK_6to2_E3  YVVYVVEKKGKG   \n",
              "3        YVVYEMKKGNY        Ext_LEEK_6to2_E4  YVVYEMEKKGKG   \n",
              "4        YVVVVTKKGNY        Ext_LEEK_6to2_E5  YVVVVTEKKGKG   \n",
              "...              ...                     ...           ...   \n",
              "1031611     VRKKGLEE  Ext_LEEK_6to2_E1031612     VREEKKGKG   \n",
              "1031612     VTKKGLEE  Ext_LEEK_6to2_E1031613     VTEEKKGKG   \n",
              "1031613     VVKKGLEE  Ext_LEEK_6to2_E1031614     VVEEKKGKG   \n",
              "1031614     YEKKGLEE  Ext_LEEK_6to2_E1031615     YEEEKKGKG   \n",
              "1031615     YVKKGLEE  Ext_LEEK_6to2_E1031616     YVEEKKGKG   \n",
              "\n",
              "                             17            18                      21  \\\n",
              "0              Ext_LEEK_6to2_F1  YVYVVTKGNKGN        Ext_LEEK_6to2_G1   \n",
              "1              Ext_LEEK_6to2_F2  YVYEMEKGNKGN        Ext_LEEK_6to2_G2   \n",
              "2              Ext_LEEK_6to2_F3  YVVYVVKGNKGN        Ext_LEEK_6to2_G3   \n",
              "3              Ext_LEEK_6to2_F4  YVVYEMKGNKGN        Ext_LEEK_6to2_G4   \n",
              "4              Ext_LEEK_6to2_F5  YVVVVTKGNKGN        Ext_LEEK_6to2_G5   \n",
              "...                         ...           ...                     ...   \n",
              "1031611  Ext_LEEK_6to2_F1031612     VRGNLEEKK  Ext_LEEK_6to2_G1031612   \n",
              "1031612  Ext_LEEK_6to2_F1031613     VTGNLEEKK  Ext_LEEK_6to2_G1031613   \n",
              "1031613  Ext_LEEK_6to2_F1031614     VVGNLEEKK  Ext_LEEK_6to2_G1031614   \n",
              "1031614  Ext_LEEK_6to2_F1031615     YEGNLEEKK  Ext_LEEK_6to2_G1031615   \n",
              "1031615  Ext_LEEK_6to2_F1031616     YVGNLEEKK  Ext_LEEK_6to2_G1031616   \n",
              "\n",
              "                   22                      24             25  \\\n",
              "0        YVYVVTLEEKLE        Ext_LEEK_6to2_H1  YVYVVTEKKGLEE   \n",
              "1        YVYEMELEEKLE        Ext_LEEK_6to2_H2  YVYEMEEKKGLEE   \n",
              "2        YVVYVVLEEKLE        Ext_LEEK_6to2_H3  YVVYVVEKKGLEE   \n",
              "3        YVVYEMLEEKLE        Ext_LEEK_6to2_H4  YVVYEMEKKGLEE   \n",
              "4        YVVVVTLEEKLE        Ext_LEEK_6to2_H5  YVVVVTEKKGLEE   \n",
              "...               ...                     ...            ...   \n",
              "1031611     VRKGNYKKG  Ext_LEEK_6to2_H1031612      VRLEEKEEK   \n",
              "1031612     VTKGNYKKG  Ext_LEEK_6to2_H1031613      VTLEEKEEK   \n",
              "1031613     VVKGNYKKG  Ext_LEEK_6to2_H1031614      VVLEEKEEK   \n",
              "1031614     YEKGNYKKG  Ext_LEEK_6to2_H1031615      YELEEKEEK   \n",
              "1031615     YVKGNYKKG  Ext_LEEK_6to2_H1031616      YVLEEKEEK   \n",
              "\n",
              "                             27             28                      30  \\\n",
              "0              Ext_LEEK_6to2_I1  YVYVVTGNYVVTD        Ext_LEEK_6to2_J1   \n",
              "1              Ext_LEEK_6to2_I2  YVYEMEGNYVVTD        Ext_LEEK_6to2_J2   \n",
              "2              Ext_LEEK_6to2_I3  YVVYVVGNYVVTD        Ext_LEEK_6to2_J3   \n",
              "3              Ext_LEEK_6to2_I4  YVVYEMGNYVVTD        Ext_LEEK_6to2_J4   \n",
              "4              Ext_LEEK_6to2_I5  YVVVVTGNYVVTD        Ext_LEEK_6to2_J5   \n",
              "...                         ...            ...                     ...   \n",
              "1031611  Ext_LEEK_6to2_I1031612     VREEKKKGNY  Ext_LEEK_6to2_J1031612   \n",
              "1031612  Ext_LEEK_6to2_I1031613     VTEEKKKGNY  Ext_LEEK_6to2_J1031613   \n",
              "1031613  Ext_LEEK_6to2_I1031614     VVEEKKKGNY  Ext_LEEK_6to2_J1031614   \n",
              "1031614  Ext_LEEK_6to2_I1031615     YEEEKKKGNY  Ext_LEEK_6to2_J1031615   \n",
              "1031615  Ext_LEEK_6to2_I1031616     YVEEKKKGNY  Ext_LEEK_6to2_J1031616   \n",
              "\n",
              "                    31  \n",
              "0        YVYVVTKKGNGNY  \n",
              "1        YVYEMEKKGNGNY  \n",
              "2        YVVYVVKKGNGNY  \n",
              "3        YVVYEMKKGNGNY  \n",
              "4        YVVVVTKKGNGNY  \n",
              "...                ...  \n",
              "1031611     VRGNKGNYVV  \n",
              "1031612     VTGNKGNYVV  \n",
              "1031613     VVGNKGNYVV  \n",
              "1031614     YEGNKGNYVV  \n",
              "1031615     YVGNKGNYVV  \n",
              "\n",
              "[1031616 rows x 20 columns]"
            ]
          },
          "metadata": {
            "tags": []
          },
          "execution_count": 25
        }
      ]
    },
    {
      "cell_type": "code",
      "metadata": {
        "id": "Cv53_S_9mvj9"
      },
      "source": [
        "cols = df.columns"
      ],
      "execution_count": null,
      "outputs": []
    },
    {
      "cell_type": "markdown",
      "metadata": {
        "id": "CTfHLrg8mvkA"
      },
      "source": [
        "## Melt the DataFrame to 1 column of Names and 1 column of Sequences"
      ]
    },
    {
      "cell_type": "code",
      "metadata": {
        "id": "ELTdcnEumvkA"
      },
      "source": [
        "names = []\n",
        "peps = []\n",
        "\n",
        "for i, col in enumerate(list(cols)):\n",
        "    if i%2 == 1:\n",
        "        names.extend(list(df[col]))\n",
        "    else:\n",
        "        peps.extend(list(df[col]))"
      ],
      "execution_count": null,
      "outputs": []
    },
    {
      "cell_type": "code",
      "metadata": {
        "id": "NUBIITUfmvkD"
      },
      "source": [
        "data = pd.DataFrame(data = {'Identifier': names, 'Sequence': peps})"
      ],
      "execution_count": null,
      "outputs": []
    },
    {
      "cell_type": "code",
      "metadata": {
        "id": "DzoT3uFXmvkG"
      },
      "source": [
        "data['Ind'] = list(range(len(names)))\n",
        "data['IndStr'] = data['Ind'].astype(str)"
      ],
      "execution_count": null,
      "outputs": []
    },
    {
      "cell_type": "code",
      "metadata": {
        "id": "WuTzF8kkmvkI",
        "outputId": "2400e4ed-c83b-43f6-f4aa-2c5fd0a3f8e5"
      },
      "source": [
        "data.head(10)"
      ],
      "execution_count": null,
      "outputs": [
        {
          "output_type": "execute_result",
          "data": {
            "text/html": [
              "<div>\n",
              "<style scoped>\n",
              "    .dataframe tbody tr th:only-of-type {\n",
              "        vertical-align: middle;\n",
              "    }\n",
              "\n",
              "    .dataframe tbody tr th {\n",
              "        vertical-align: top;\n",
              "    }\n",
              "\n",
              "    .dataframe thead th {\n",
              "        text-align: right;\n",
              "    }\n",
              "</style>\n",
              "<table border=\"1\" class=\"dataframe\">\n",
              "  <thead>\n",
              "    <tr style=\"text-align: right;\">\n",
              "      <th></th>\n",
              "      <th>Identifier</th>\n",
              "      <th>Sequence</th>\n",
              "      <th>Ind</th>\n",
              "      <th>IndStr</th>\n",
              "    </tr>\n",
              "  </thead>\n",
              "  <tbody>\n",
              "    <tr>\n",
              "      <th>0</th>\n",
              "      <td>YVYVVTL</td>\n",
              "      <td>Ext_LEEK_6to2_1</td>\n",
              "      <td>0</td>\n",
              "      <td>0</td>\n",
              "    </tr>\n",
              "    <tr>\n",
              "      <th>1</th>\n",
              "      <td>YVYEMEL</td>\n",
              "      <td>Ext_LEEK_6to2_2</td>\n",
              "      <td>1</td>\n",
              "      <td>1</td>\n",
              "    </tr>\n",
              "    <tr>\n",
              "      <th>2</th>\n",
              "      <td>YVVYVVL</td>\n",
              "      <td>Ext_LEEK_6to2_3</td>\n",
              "      <td>2</td>\n",
              "      <td>2</td>\n",
              "    </tr>\n",
              "    <tr>\n",
              "      <th>3</th>\n",
              "      <td>YVVYEML</td>\n",
              "      <td>Ext_LEEK_6to2_4</td>\n",
              "      <td>3</td>\n",
              "      <td>3</td>\n",
              "    </tr>\n",
              "    <tr>\n",
              "      <th>4</th>\n",
              "      <td>YVVVVTL</td>\n",
              "      <td>Ext_LEEK_6to2_5</td>\n",
              "      <td>4</td>\n",
              "      <td>4</td>\n",
              "    </tr>\n",
              "    <tr>\n",
              "      <th>5</th>\n",
              "      <td>YVVVTDL</td>\n",
              "      <td>Ext_LEEK_6to2_6</td>\n",
              "      <td>5</td>\n",
              "      <td>5</td>\n",
              "    </tr>\n",
              "    <tr>\n",
              "      <th>6</th>\n",
              "      <td>YVVVTDL</td>\n",
              "      <td>Ext_LEEK_6to2_7</td>\n",
              "      <td>6</td>\n",
              "      <td>6</td>\n",
              "    </tr>\n",
              "    <tr>\n",
              "      <th>7</th>\n",
              "      <td>YVVVRKL</td>\n",
              "      <td>Ext_LEEK_6to2_8</td>\n",
              "      <td>7</td>\n",
              "      <td>7</td>\n",
              "    </tr>\n",
              "    <tr>\n",
              "      <th>8</th>\n",
              "      <td>YVVVRAL</td>\n",
              "      <td>Ext_LEEK_6to2_9</td>\n",
              "      <td>8</td>\n",
              "      <td>8</td>\n",
              "    </tr>\n",
              "    <tr>\n",
              "      <th>9</th>\n",
              "      <td>YVVVCNL</td>\n",
              "      <td>Ext_LEEK_6to2_10</td>\n",
              "      <td>9</td>\n",
              "      <td>9</td>\n",
              "    </tr>\n",
              "  </tbody>\n",
              "</table>\n",
              "</div>"
            ],
            "text/plain": [
              "  Identifier          Sequence  Ind IndStr\n",
              "0    YVYVVTL   Ext_LEEK_6to2_1    0      0\n",
              "1    YVYEMEL   Ext_LEEK_6to2_2    1      1\n",
              "2    YVVYVVL   Ext_LEEK_6to2_3    2      2\n",
              "3    YVVYEML   Ext_LEEK_6to2_4    3      3\n",
              "4    YVVVVTL   Ext_LEEK_6to2_5    4      4\n",
              "5    YVVVTDL   Ext_LEEK_6to2_6    5      5\n",
              "6    YVVVTDL   Ext_LEEK_6to2_7    6      6\n",
              "7    YVVVRKL   Ext_LEEK_6to2_8    7      7\n",
              "8    YVVVRAL   Ext_LEEK_6to2_9    8      8\n",
              "9    YVVVCNL  Ext_LEEK_6to2_10    9      9"
            ]
          },
          "metadata": {
            "tags": []
          },
          "execution_count": 50
        }
      ]
    },
    {
      "cell_type": "code",
      "metadata": {
        "id": "wmnkLAPhmvkK"
      },
      "source": [
        "seqs = data.Sequence"
      ],
      "execution_count": null,
      "outputs": []
    },
    {
      "cell_type": "markdown",
      "metadata": {
        "id": "6A9FEDMinA17"
      },
      "source": [
        "## Below: Choose whether you would like to use the Full Sequence Identifier or an indexed number as the identifier"
      ]
    },
    {
      "cell_type": "code",
      "metadata": {
        "id": "vyOcuCnMmvkM"
      },
      "source": [
        "identifier = data.IndStr\n",
        "# identifier = data.Identifier"
      ],
      "execution_count": null,
      "outputs": []
    },
    {
      "cell_type": "code",
      "metadata": {
        "id": "4USh7OdgmvkO"
      },
      "source": [
        "file_contents = ''"
      ],
      "execution_count": null,
      "outputs": []
    },
    {
      "cell_type": "code",
      "metadata": {
        "id": "eANgSGjVmvkR"
      },
      "source": [
        "for i in range(len(seqs)):\n",
        "    if type(identifier[i]) == 'float':\n",
        "        print('I')\n",
        "    if type(seqs[i]) == 'float':\n",
        "        print('J')\n",
        "    file_contents += \">\" + identifier[i] + \"\\n\" \n",
        "    file_contents += seqs[i] + \"\\n\""
      ],
      "execution_count": null,
      "outputs": []
    },
    {
      "cell_type": "code",
      "metadata": {
        "id": "QpUhfWaamvkT"
      },
      "source": [
        "def writeFile(filename, contents, mode=\"wt\"):    # wt = \"write text\"\n",
        "    with open(filename, mode) as fout:\n",
        "        fout.write(contents)"
      ],
      "execution_count": null,
      "outputs": []
    },
    {
      "cell_type": "markdown",
      "metadata": {
        "id": "2rAwfYP9myVb"
      },
      "source": [
        "## Write the File to FASTA format using same name as ```csv_name``` with modified ```.fasta``` extension"
      ]
    },
    {
      "cell_type": "code",
      "metadata": {
        "id": "NJpDP2N8mvkV"
      },
      "source": [
        "writeFile(csv_name[:-4]+'.fasta', file_contents)"
      ],
      "execution_count": null,
      "outputs": []
    },
    {
      "cell_type": "code",
      "metadata": {
        "id": "R2glr4SjmvkY",
        "outputId": "b385ca37-d83d-4714-9ace-a0ec9ec48f64"
      },
      "source": [
        "print(\"\\n\")"
      ],
      "execution_count": null,
      "outputs": [
        {
          "output_type": "stream",
          "text": [
            "\n",
            "\n"
          ],
          "name": "stdout"
        }
      ]
    }
  ]
}