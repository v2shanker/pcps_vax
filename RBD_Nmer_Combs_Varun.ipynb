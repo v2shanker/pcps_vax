{
  "nbformat": 4,
  "nbformat_minor": 0,
  "metadata": {
    "kernelspec": {
      "display_name": "Python 3",
      "language": "python",
      "name": "python3"
    },
    "language_info": {
      "codemirror_mode": {
        "name": "ipython",
        "version": 3
      },
      "file_extension": ".py",
      "mimetype": "text/x-python",
      "name": "python",
      "nbconvert_exporter": "python",
      "pygments_lexer": "ipython3",
      "version": "3.7.9"
    },
    "colab": {
      "name": "RBD_Nmer_Combs_Varun.ipynb",
      "provenance": [],
      "include_colab_link": true
    }
  },
  "cells": [
    {
      "cell_type": "markdown",
      "metadata": {
        "id": "view-in-github",
        "colab_type": "text"
      },
      "source": [
        "<a href=\"https://colab.research.google.com/github/v2shanker/pcps_vax/blob/master/RBD_Nmer_Combs_Varun.ipynb\" target=\"_parent\"><img src=\"https://colab.research.google.com/assets/colab-badge.svg\" alt=\"Open In Colab\"/></a>"
      ]
    },
    {
      "cell_type": "markdown",
      "metadata": {
        "id": "1rRdpgxdnS0b"
      },
      "source": [
        "**Instructions to Run**\n",
        "\n",
        "\n",
        "\n",
        "1.   Change parameter and input values as necessary, in cell indicated below\n",
        "2.   In Toolbar above, click Runtime-->Run All \n",
        "3.   Wait for all cells to execute in order for output\n",
        "\n"
      ]
    },
    {
      "cell_type": "code",
      "metadata": {
        "id": "nE06p2WAeXjP",
        "outputId": "04801aab-1452-4c6a-ff6e-2404aa73b340",
        "colab": {
          "base_uri": "https://localhost:8080/",
          "height": 119
        }
      },
      "source": [
        "try:\n",
        "    import google.colab\n",
        "    # Running on Google Colab, so install Biopython first\n",
        "    !pip install biopython\n",
        "except ImportError:\n",
        "    pass"
      ],
      "execution_count": 13,
      "outputs": [
        {
          "output_type": "stream",
          "text": [
            "Collecting biopython\n",
            "\u001b[?25l  Downloading https://files.pythonhosted.org/packages/76/02/8b606c4aa92ff61b5eda71d23b499ab1de57d5e818be33f77b01a6f435a8/biopython-1.78-cp36-cp36m-manylinux1_x86_64.whl (2.3MB)\n",
            "\u001b[K     |████████████████████████████████| 2.3MB 3.5MB/s \n",
            "\u001b[?25hRequirement already satisfied: numpy in /usr/local/lib/python3.6/dist-packages (from biopython) (1.18.5)\n",
            "Installing collected packages: biopython\n",
            "Successfully installed biopython-1.78\n"
          ],
          "name": "stdout"
        }
      ]
    },
    {
      "cell_type": "code",
      "metadata": {
        "id": "xXg7N5eYeTSH"
      },
      "source": [
        "import os\n",
        "import sys\n",
        "from itertools import combinations \n",
        "from itertools import permutations\n",
        "import pprint\n",
        "from itertools import groupby\n",
        "import pandas as pd"
      ],
      "execution_count": 27,
      "outputs": []
    },
    {
      "cell_type": "code",
      "metadata": {
        "id": "pR64SwUleTSK"
      },
      "source": [
        "from Bio import pairwise2\n",
        "from Bio.pairwise2 import format_alignment"
      ],
      "execution_count": 16,
      "outputs": []
    },
    {
      "cell_type": "markdown",
      "metadata": {
        "id": "SdOHoVJyizk8"
      },
      "source": [
        "----------------------------------------------------------------------\n",
        "# CHANGE PARAMETER VALUES HERE\n",
        "|parameter|description|type|\n",
        "|:-------|:----------:|:----------:|\n",
        "|`nmers_of_interest` | list of allowed lengths of PCPS products|`list of int`|\n",
        "|`tolerance` | hit-calling range permissible from original peak value|`float`|\n",
        "|`flat_parent`| parental peptide sequence|`string`|\n",
        "|`IP_Peaks_List` | list of candidate peaks under evaluation|`list of float`|\n",
        "|`max_num_fragments` | upper bound for number of frgaments in PCPS product|`int`|\n",
        "\n",
        "*n.b. adding more values to lists like `nmers_of_interest` and `IP_Peaks_List` will significantly increase runtime*\n"
      ]
    },
    {
      "cell_type": "code",
      "metadata": {
        "id": "TcbwmsZSeTSN"
      },
      "source": [
        "# possible n_mers\n",
        "# ADD OR SUBTRACT HERE VALUES IF WANT MORE N-MERS\n",
        "nmers_of_interest = [8,9,10]\n",
        "#CHANGE SEQUENCE HERE OF PEPTIDE\n",
        "flat_parent = 'FTGCVIAWNSNNLDSKVGGNYNYLYC'\n",
        "\n",
        "#CHANGE TOLERANCE HERE!\n",
        "tolerance = 1.5\n",
        "\n",
        "#LIST ALL PEAKS HERE TO ANALYZE \n",
        "IP_Peaks_List = [1000,1008]\n",
        "\n",
        "#CHANGE THE UPPER BOUND OF FRAGMENTS FROM WHICH A PCPS PRODUCT CAN BE COMPOSED OF\n",
        "max_num_frags = 2"
      ],
      "execution_count": 63,
      "outputs": []
    },
    {
      "cell_type": "markdown",
      "metadata": {
        "id": "WnxI2O9qmxd3"
      },
      "source": [
        "----------------------------------------------------"
      ]
    },
    {
      "cell_type": "code",
      "metadata": {
        "id": "oVsR_dQjeTSP"
      },
      "source": [
        "parent = []\n",
        "for i in flat_parent:\n",
        "    parent.append(i)"
      ],
      "execution_count": 54,
      "outputs": []
    },
    {
      "cell_type": "code",
      "metadata": {
        "id": "Bt2VgdHKeTSS"
      },
      "source": [
        "#create list of all combinations of the given n_mers of interest and SUBTRACTS duplicate combinations \n",
        "all_seq_mers = []\n",
        "for size in nmers_of_interest:\n",
        "    seq_n_mers = combinations(parent, size) \n",
        "    seq_n_mers = list(dict.fromkeys(seq_n_mers)) #deletes duplicates by dict. conversion\n",
        "    all_seq_mers.extend(seq_n_mers) #create list that adds 8mers, then 9mers, then 10mers..."
      ],
      "execution_count": 55,
      "outputs": []
    },
    {
      "cell_type": "code",
      "metadata": {
        "id": "8tldBga9eTSU"
      },
      "source": [
        "#computes the molecular weight of a given Amino Acids Sequence \n",
        "def compute_mol_weight(AA_comb):\n",
        "    AA_DICT = {\n",
        "        'A' : 71.09, \n",
        "        'R' : 156.19, \n",
        "        'D' : 114.11,\n",
        "        'N' : 115.09,\n",
        "        'C' : 103.15, \n",
        "        'E' : 129.12,\n",
        "        'Q' : 128.14,\n",
        "        'G' : 57.05,\n",
        "        'H' : 137.14,\n",
        "        'I' : 113.16,\n",
        "        'L' : 113.16,\n",
        "        'K' : 128.17,\n",
        "        'M' : 131.19,\n",
        "        'F' : 147.18,\n",
        "        'P' : 97.12,\n",
        "        'S' : 87.08,\n",
        "        'T' : 101.11,\n",
        "        'W' : 186.12,\n",
        "        'Y' : 163.18,\n",
        "        'V' : 99.14\n",
        "    }\n",
        "    \n",
        "    mw = 0\n",
        "    for AA in AA_comb:\n",
        "        mw = mw + AA_DICT[AA] + 18.01528 #accounts for terminal hydration\n",
        "\n",
        "    return mw"
      ],
      "execution_count": 56,
      "outputs": []
    },
    {
      "cell_type": "code",
      "metadata": {
        "id": "XBqVFEkLeTSX"
      },
      "source": [
        "#Create a dictionary with key values as all possible n-mer sequences and value as the molecular weight\n",
        "comb_dict = {}\n",
        "for seq_comb in all_seq_mers:\n",
        "    comb_dict[seq_comb] = compute_mol_weight(seq_comb)"
      ],
      "execution_count": 57,
      "outputs": []
    },
    {
      "cell_type": "code",
      "metadata": {
        "id": "yc9yE_zceTSZ"
      },
      "source": [
        "# DO NOT CHANGE ANYTHING HERE!!!\n",
        "def find_peak_seq_combs(peak,tolerance):\n",
        "    '''This function takes in a peak value and a tolerance and returns the possible matches w/ or w/o modifications\n",
        "    from the list of all possible recombinations of the sequence and desired peptide recombination \n",
        "    lengths entered above\n",
        "    '''\n",
        "    peak_sequence_hits = {}\n",
        "    for seq_comb in comb_dict:\n",
        "        if abs(peak - comb_dict[seq_comb]) <= tolerance:\n",
        "            peak_sequence_hits[''.join(seq_comb)] = [comb_dict[seq_comb] , len(seq_comb)]\n",
        "            \n",
        "            \n",
        "            \n",
        "#         elif abs(peak - (comb_dict[seq_comb] - 1)) <= tolerance:\n",
        "#             peak_sequence_hits[seq_comb] = [comb_dict[seq_comb] , 'Loss Proton', len(seq_comb)]\n",
        "#         elif abs(peak - (comb_dict[seq_comb] + 1)) <= tolerance:\n",
        "#             peak_sequence_hits[seq_comb] = [comb_dict[seq_comb] , 'Gain Proton', len(seq_comb)]\n",
        "#         elif abs(peak - (comb_dict[seq_comb] + 42)) <= tolerance:\n",
        "#             peak_sequence_hits[seq_comb] = [comb_dict[seq_comb] , 'Acetylation', len(seq_comb)]\n",
        "#         elif abs(peak - (comb_dict[seq_comb] + 18.01528)) <= tolerance:\n",
        "#             peak_sequence_hits[seq_comb] = [comb_dict[seq_comb] , 'Gain Water', len(seq_comb)]\n",
        "#         elif abs(peak - (comb_dict[seq_comb] + 22.99)) <= tolerance:\n",
        "#             peak_sequence_hits[seq_comb] = [comb_dict[seq_comb] , 'Gain Sodium,', len(seq_comb)]\n",
        "#         elif abs(peak - (comb_dict[seq_comb] + 22.99 + 18.01528)) <= tolerance:\n",
        "#              peak_sequence_hits[seq_comb] = [comb_dict[seq_comb] , 'Gain Sodium, Gain Water', len(seq_comb)]\n",
        "#         elif abs(peak - (comb_dict[seq_comb] + 22.99 + 1)) <= tolerance:\n",
        "#             peak_sequence_hits[seq_comb] = [comb_dict[seq_comb] , 'Gain Sodium, Gain Proton', len(seq_comb)]\n",
        "#         elif abs(peak - (comb_dict[seq_comb] + 22.99 - 1)) <= tolerance:\n",
        "#             peak_sequence_hits[seq_comb] = [comb_dict[seq_comb] , 'Gain Sodium, Loss Proton', len(seq_comb)]\n",
        "        \n",
        "    print (\"There are \" + str(len((peak_sequence_hits))) + \" possible recombination products\")    \n",
        "    #prints all AA combinations that are a hit for peak\n",
        "    #pprint.pprint(peak_sequence_hits)\n",
        "    \n",
        "    \n",
        "    #create list of all hit sequences\n",
        "    all_hit_sequences =[]\n",
        "    for hit_seq in list( peak_sequence_hits.keys()):\n",
        "        all_hit_sequences.append(hit_seq)\n",
        "\n",
        "    \n",
        "    return all_hit_sequences"
      ],
      "execution_count": 58,
      "outputs": []
    },
    {
      "cell_type": "code",
      "metadata": {
        "id": "0WcQdYD1eTSd"
      },
      "source": [
        "def alignment_hit_seq(all_hit_sequences):\n",
        "    '''Takes all possible AA combos that match a peak and returns best alignment(s)'''\n",
        "    \n",
        "    #finds best alignment for every possible AA combination that is a hit for peak\n",
        "    best_alignments = []\n",
        "    for hit_seq in all_hit_sequences:\n",
        "        #Identical characters are given 2 points, 1 point is deducted for each non-identical character.\n",
        "        #0.5 points are deducted when opening a gap, and 0.1 points are deducted when extending it.\n",
        "        best_alignments.extend(pairwise2.align.globalms(flat_parent,hit_seq, 2, -1, -.5, -.1))\n",
        "\n",
        "#         for a in pairwise2.align.globalms(flat_parent,hit_seq, 2, -1, -.5, -.1):\n",
        "#             print(format_alignment(*a))\n",
        "#         print(\"next\")\n",
        "                                    \n",
        "\n",
        "    return best_alignments\n"
      ],
      "execution_count": 59,
      "outputs": []
    },
    {
      "cell_type": "code",
      "metadata": {
        "id": "yqNt8AjIeTSf"
      },
      "source": [
        "def alignment_to_frag(best_aligments):\n",
        "    '''Takes in all possible aligned AA combs for a peak, and returns the unique set of fragments for the peak'''\n",
        "    seq_frags = []\n",
        "    for a in best_alignments:\n",
        "        aligned_seq = a[1]\n",
        "        fragments = [i for i in aligned_seq.split('-') if i != \"\"]\n",
        "        seq_frags.append(fragments)\n",
        "    \n",
        "    \n",
        "    #get rid of duplicate sets of fragments\n",
        "    seq_frags.sort()\n",
        "    dedup_seq_frags = list(seq_frags for seq_frags,_ in groupby(seq_frags))\n",
        "\n",
        "    \n",
        "    return dedup_seq_frags\n",
        "        "
      ],
      "execution_count": 60,
      "outputs": []
    },
    {
      "cell_type": "code",
      "metadata": {
        "id": "oHj7LCvieTSh"
      },
      "source": [
        "def frag_to_PCPS_lib(dedup_seq_frags, max_num_frag):\n",
        "    \n",
        "    PCPS_library = []\n",
        "    for frags in dedup_seq_frags:\n",
        "        #if the set of fragments is less than threshold\n",
        "        if len(frags) <= max_num_frag:\n",
        "            #find all PCPS rearragements of this set of fragments\n",
        "            frag_PCPS_seqs = list(permutations(frags,len(frags)))\n",
        "            #join the rearraged fragments into a string and add to library\n",
        "            for PCPS_seq in frag_PCPS_seqs:\n",
        "                PCPS_library.append(''.join(list(PCPS_seq)))\n",
        "    \n",
        "    return PCPS_library\n"
      ],
      "execution_count": 61,
      "outputs": []
    },
    {
      "cell_type": "code",
      "metadata": {
        "scrolled": true,
        "id": "-hAZf7bUeTSj",
        "outputId": "1a393a91-8ca0-4de6-b101-6469653b44ee",
        "colab": {
          "base_uri": "https://localhost:8080/",
          "height": 1000
        }
      },
      "source": [
        "for peak in IP_Peaks_List:\n",
        "    print('---------------Results for Peak '+ str(peak) + ' in --------------------------------------')\n",
        "    all_hit_sequences = find_peak_seq_combs(peak,tolerance)\n",
        "    \n",
        "    best_alignments = alignment_hit_seq(all_hit_sequences)\n",
        "    dedup_seq_frags = alignment_to_frag(best_alignments)\n",
        "    \n",
        "    PCPS_lib = frag_to_PCPS_lib(dedup_seq_frags, max_num_frags)  \n",
        "    lib_len = len(PCPS_lib)\n",
        "    print(f'There are {lib_len} hits composed of at most {max_num_frags} fragments')\n",
        "    print(*PCPS_lib,sep='\\n')\n",
        "    \n",
        "    print('\\n');\n",
        "\n"
      ],
      "execution_count": 66,
      "outputs": [
        {
          "output_type": "stream",
          "text": [
            "---------------Results for Peak 1000 in --------------------------------------\n",
            "There are 4608 possible recombination products\n",
            "There are 30 hits composed of at most 2 fragments\n",
            "AGGNYNYL\n",
            "GGNYNYLA\n",
            "AWLDSKVG\n",
            "LDSKVGAW\n",
            "CVILDSKV\n",
            "LDSKVCVI\n",
            "CVIAWKVG\n",
            "KVGCVIAW\n",
            "FTVGGNYN\n",
            "VGGNYNFT\n",
            "FTGCSKVGG\n",
            "SKVGGFTGC\n",
            "FTGCVIAY\n",
            "YFTGCVIA\n",
            "GCVIAWKV\n",
            "KVGCVIAW\n",
            "GCVIAWLD\n",
            "LDGCVIAW\n",
            "IAGGNYNY\n",
            "GGNYNYIA\n",
            "IANNLDSK\n",
            "NNLDSKIA\n",
            "IAWDSKVG\n",
            "DSKVGIAW\n",
            "IAWNSKVG\n",
            "SKVGIAWN\n",
            "IAWNSKVG\n",
            "KVGIAWNS\n",
            "SVGGNYNY\n",
            "VGGNYNYS\n",
            "\n",
            "\n",
            "---------------Results for Peak 1008 in --------------------------------------\n",
            "There are 9387 possible recombination products\n",
            "There are 26 hits composed of at most 2 fragments\n",
            "AWVGGNYN\n",
            "VGGNYNAW\n",
            "AWNVGGNY\n",
            "VGGNYAWN\n",
            "CSNNLDSK\n",
            "SNNLDSKC\n",
            "DSKVGLYC\n",
            "LYCDSKVG\n",
            "FTGNLDSK\n",
            "NLDSKFTG\n",
            "LDSKVGYC\n",
            "YCLDSKVG\n",
            "SNNLDSVGG\n",
            "VGGSNNLDS\n",
            "SNNLDSKC\n",
            "CSNNLDSK\n",
            "TGCVDSKVG\n",
            "DSKVGTGCV\n",
            "TGCVWNSN\n",
            "WNSNTGCV\n",
            "TGCVINYL\n",
            "NYLTGCVI\n",
            "TGCVISKVG\n",
            "SKVGTGCVI\n",
            "TGCVIAWGG\n",
            "GGTGCVIAW\n",
            "\n",
            "\n"
          ],
          "name": "stdout"
        }
      ]
    },
    {
      "cell_type": "code",
      "metadata": {
        "id": "WqhaTrB2eTSm"
      },
      "source": [
        ""
      ],
      "execution_count": 51,
      "outputs": []
    },
    {
      "cell_type": "code",
      "metadata": {
        "jupyter": {
          "source_hidden": true
        },
        "id": "2a_RisRDeTSo",
        "outputId": "697626e7-04ec-4f50-ec44-dde22d90a014",
        "colab": {
          "base_uri": "https://localhost:8080/",
          "height": 119
        }
      },
      "source": [
        "for a in pairwise2.align.globalms(\"ANRGDFS\", \"ANREFS\", 2, -1, -.5, -.1):\n",
        "    print(format_alignment(*a))\n",
        "    print(a)"
      ],
      "execution_count": 52,
      "outputs": [
        {
          "output_type": "stream",
          "text": [
            "ANRGD-FS\n",
            "|||   ||\n",
            "ANR--EFS\n",
            "  Score=8.9\n",
            "\n",
            "Alignment(seqA='ANRGD-FS', seqB='ANR--EFS', score=8.9, start=0, end=8)\n"
          ],
          "name": "stdout"
        }
      ]
    },
    {
      "cell_type": "code",
      "metadata": {
        "id": "qWZ5RS7seTS0"
      },
      "source": [
        ""
      ],
      "execution_count": null,
      "outputs": []
    }
  ]
}